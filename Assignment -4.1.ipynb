{
 "cells": [
  {
   "cell_type": "markdown",
   "id": "f6fca862",
   "metadata": {},
   "source": [
    "#### Write a Python program to create a lambda function that adds 25 to a given number passed in as an argument."
   ]
  },
  {
   "cell_type": "code",
   "execution_count": 5,
   "id": "37270b36",
   "metadata": {},
   "outputs": [
    {
     "name": "stdout",
     "output_type": "stream",
     "text": [
      "Enter any No. : 10\n",
      "Answer :  35\n"
     ]
    }
   ],
   "source": [
    "r = lambda a : a + 25\n",
    "\n",
    "a = int(input(\"Enter any No. : \"))\n",
    "\n",
    "print(\"Answer : \",r(a))"
   ]
  }
 ],
 "metadata": {
  "kernelspec": {
   "display_name": "Python 3 (ipykernel)",
   "language": "python",
   "name": "python3"
  },
  "language_info": {
   "codemirror_mode": {
    "name": "ipython",
    "version": 3
   },
   "file_extension": ".py",
   "mimetype": "text/x-python",
   "name": "python",
   "nbconvert_exporter": "python",
   "pygments_lexer": "ipython3",
   "version": "3.10.0"
  }
 },
 "nbformat": 4,
 "nbformat_minor": 5
}
